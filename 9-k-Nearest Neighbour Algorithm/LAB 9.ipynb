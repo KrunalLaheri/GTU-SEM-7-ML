{
 "cells": [
  {
   "cell_type": "markdown",
   "metadata": {},
   "source": [
    "# MACHINE LEARNING LAB - 9 (  k-Nearest Neighbour Algorithm )"
   ]
  },
  {
   "cell_type": "markdown",
   "metadata": {},
   "source": [
    "**9. Write a program to implement k-Nearest Neighbour algorithm to classify the iris\n",
    "data set. Print both correct and wrong predictions. Java/Python ML library classes can\n",
    "be used for this problem.**"
   ]
  },
  {
   "cell_type": "code",
   "execution_count": 2,
   "metadata": {},
   "outputs": [
    {
     "ename": "ValueError",
     "evalue": "numpy.ndarray size changed, may indicate binary incompatibility. Expected 96 from C header, got 88 from PyObject",
     "output_type": "error",
     "traceback": [
      "\u001b[1;31m---------------------------------------------------------------------------\u001b[0m",
      "\u001b[1;31mValueError\u001b[0m                                Traceback (most recent call last)",
      "Cell \u001b[1;32mIn [2], line 1\u001b[0m\n\u001b[1;32m----> 1\u001b[0m \u001b[39mfrom\u001b[39;00m \u001b[39msklearn\u001b[39;00m\u001b[39m.\u001b[39;00m\u001b[39mdatasets\u001b[39;00m \u001b[39mimport\u001b[39;00m load_iris\n\u001b[0;32m      2\u001b[0m \u001b[39mfrom\u001b[39;00m \u001b[39msklearn\u001b[39;00m\u001b[39m.\u001b[39;00m\u001b[39mneighbors\u001b[39;00m \u001b[39mimport\u001b[39;00m KNeighborsClassifier\n\u001b[0;32m      3\u001b[0m \u001b[39mfrom\u001b[39;00m \u001b[39msklearn\u001b[39;00m\u001b[39m.\u001b[39;00m\u001b[39mmodel_selection\u001b[39;00m \u001b[39mimport\u001b[39;00m train_test_split\n",
      "File \u001b[1;32mc:\\Users\\laher\\AppData\\Local\\Programs\\Python\\Python310\\lib\\site-packages\\sklearn\\__init__.py:82\u001b[0m\n\u001b[0;32m     80\u001b[0m \u001b[39mfrom\u001b[39;00m \u001b[39m.\u001b[39;00m \u001b[39mimport\u001b[39;00m _distributor_init  \u001b[39m# noqa: F401\u001b[39;00m\n\u001b[0;32m     81\u001b[0m \u001b[39mfrom\u001b[39;00m \u001b[39m.\u001b[39;00m \u001b[39mimport\u001b[39;00m __check_build  \u001b[39m# noqa: F401\u001b[39;00m\n\u001b[1;32m---> 82\u001b[0m \u001b[39mfrom\u001b[39;00m \u001b[39m.\u001b[39;00m\u001b[39mbase\u001b[39;00m \u001b[39mimport\u001b[39;00m clone\n\u001b[0;32m     83\u001b[0m \u001b[39mfrom\u001b[39;00m \u001b[39m.\u001b[39;00m\u001b[39mutils\u001b[39;00m\u001b[39m.\u001b[39;00m\u001b[39m_show_versions\u001b[39;00m \u001b[39mimport\u001b[39;00m show_versions\n\u001b[0;32m     85\u001b[0m __all__ \u001b[39m=\u001b[39m [\n\u001b[0;32m     86\u001b[0m     \u001b[39m\"\u001b[39m\u001b[39mcalibration\u001b[39m\u001b[39m\"\u001b[39m,\n\u001b[0;32m     87\u001b[0m     \u001b[39m\"\u001b[39m\u001b[39mcluster\u001b[39m\u001b[39m\"\u001b[39m,\n\u001b[1;32m   (...)\u001b[0m\n\u001b[0;32m    128\u001b[0m     \u001b[39m\"\u001b[39m\u001b[39mshow_versions\u001b[39m\u001b[39m\"\u001b[39m,\n\u001b[0;32m    129\u001b[0m ]\n",
      "File \u001b[1;32mc:\\Users\\laher\\AppData\\Local\\Programs\\Python\\Python310\\lib\\site-packages\\sklearn\\base.py:17\u001b[0m\n\u001b[0;32m     15\u001b[0m \u001b[39mfrom\u001b[39;00m \u001b[39m.\u001b[39;00m \u001b[39mimport\u001b[39;00m __version__\n\u001b[0;32m     16\u001b[0m \u001b[39mfrom\u001b[39;00m \u001b[39m.\u001b[39;00m\u001b[39m_config\u001b[39;00m \u001b[39mimport\u001b[39;00m get_config\n\u001b[1;32m---> 17\u001b[0m \u001b[39mfrom\u001b[39;00m \u001b[39m.\u001b[39;00m\u001b[39mutils\u001b[39;00m \u001b[39mimport\u001b[39;00m _IS_32BIT\n\u001b[0;32m     18\u001b[0m \u001b[39mfrom\u001b[39;00m \u001b[39m.\u001b[39;00m\u001b[39mutils\u001b[39;00m\u001b[39m.\u001b[39;00m\u001b[39m_tags\u001b[39;00m \u001b[39mimport\u001b[39;00m (\n\u001b[0;32m     19\u001b[0m     _DEFAULT_TAGS,\n\u001b[0;32m     20\u001b[0m )\n\u001b[0;32m     21\u001b[0m \u001b[39mfrom\u001b[39;00m \u001b[39m.\u001b[39;00m\u001b[39mutils\u001b[39;00m\u001b[39m.\u001b[39;00m\u001b[39mvalidation\u001b[39;00m \u001b[39mimport\u001b[39;00m check_X_y\n",
      "File \u001b[1;32mc:\\Users\\laher\\AppData\\Local\\Programs\\Python\\Python310\\lib\\site-packages\\sklearn\\utils\\__init__.py:24\u001b[0m\n\u001b[0;32m     21\u001b[0m \u001b[39mimport\u001b[39;00m \u001b[39mnumpy\u001b[39;00m \u001b[39mas\u001b[39;00m \u001b[39mnp\u001b[39;00m\n\u001b[0;32m     22\u001b[0m \u001b[39mfrom\u001b[39;00m \u001b[39mscipy\u001b[39;00m\u001b[39m.\u001b[39;00m\u001b[39msparse\u001b[39;00m \u001b[39mimport\u001b[39;00m issparse\n\u001b[1;32m---> 24\u001b[0m \u001b[39mfrom\u001b[39;00m \u001b[39m.\u001b[39;00m\u001b[39mmurmurhash\u001b[39;00m \u001b[39mimport\u001b[39;00m murmurhash3_32\n\u001b[0;32m     25\u001b[0m \u001b[39mfrom\u001b[39;00m \u001b[39m.\u001b[39;00m\u001b[39mclass_weight\u001b[39;00m \u001b[39mimport\u001b[39;00m compute_class_weight, compute_sample_weight\n\u001b[0;32m     26\u001b[0m \u001b[39mfrom\u001b[39;00m \u001b[39m.\u001b[39;00m \u001b[39mimport\u001b[39;00m _joblib\n",
      "File \u001b[1;32msklearn\\utils\\murmurhash.pyx:1\u001b[0m, in \u001b[0;36minit sklearn.utils.murmurhash\u001b[1;34m()\u001b[0m\n",
      "\u001b[1;31mValueError\u001b[0m: numpy.ndarray size changed, may indicate binary incompatibility. Expected 96 from C header, got 88 from PyObject"
     ]
    }
   ],
   "source": [
    "from sklearn.datasets import load_iris\n",
    "from sklearn.neighbors import KNeighborsClassifier\n",
    "from sklearn.model_selection import train_test_split\n",
    "import numpy as np"
   ]
  },
  {
   "cell_type": "code",
   "execution_count": 2,
   "metadata": {},
   "outputs": [],
   "source": [
    "dataset=load_iris()\n",
    "#print(dataset)\n",
    "X_train,X_test,y_train,y_test=train_test_split(dataset[\"data\"],dataset[\"target\"],random_state=0)"
   ]
  },
  {
   "cell_type": "code",
   "execution_count": 3,
   "metadata": {},
   "outputs": [
    {
     "ename": "NameError",
     "evalue": "name 'KNeighborsClassifier' is not defined",
     "output_type": "error",
     "traceback": [
      "\u001b[1;31m---------------------------------------------------------------------------\u001b[0m",
      "\u001b[1;31mNameError\u001b[0m                                 Traceback (most recent call last)",
      "Cell \u001b[1;32mIn [3], line 1\u001b[0m\n\u001b[1;32m----> 1\u001b[0m kn\u001b[39m=\u001b[39mKNeighborsClassifier(n_neighbors\u001b[39m=\u001b[39m\u001b[39m1\u001b[39m)\n\u001b[0;32m      2\u001b[0m kn\u001b[39m.\u001b[39mfit(X_train,y_train)\n",
      "\u001b[1;31mNameError\u001b[0m: name 'KNeighborsClassifier' is not defined"
     ]
    }
   ],
   "source": [
    "kn=KNeighborsClassifier(n_neighbors=1)\n",
    "kn.fit(X_train,y_train)"
   ]
  },
  {
   "cell_type": "code",
   "execution_count": 4,
   "metadata": {},
   "outputs": [
    {
     "name": "stdout",
     "output_type": "stream",
     "text": [
      "TARGET= 2 virginica PREDICTED= [2] ['virginica']\n",
      "TARGET= 1 versicolor PREDICTED= [1] ['versicolor']\n",
      "TARGET= 0 setosa PREDICTED= [0] ['setosa']\n",
      "TARGET= 2 virginica PREDICTED= [2] ['virginica']\n",
      "TARGET= 0 setosa PREDICTED= [0] ['setosa']\n",
      "TARGET= 2 virginica PREDICTED= [2] ['virginica']\n",
      "TARGET= 0 setosa PREDICTED= [0] ['setosa']\n",
      "TARGET= 1 versicolor PREDICTED= [1] ['versicolor']\n",
      "TARGET= 1 versicolor PREDICTED= [1] ['versicolor']\n",
      "TARGET= 1 versicolor PREDICTED= [1] ['versicolor']\n",
      "TARGET= 2 virginica PREDICTED= [2] ['virginica']\n",
      "TARGET= 1 versicolor PREDICTED= [1] ['versicolor']\n",
      "TARGET= 1 versicolor PREDICTED= [1] ['versicolor']\n",
      "TARGET= 1 versicolor PREDICTED= [1] ['versicolor']\n",
      "TARGET= 1 versicolor PREDICTED= [1] ['versicolor']\n",
      "TARGET= 0 setosa PREDICTED= [0] ['setosa']\n",
      "TARGET= 1 versicolor PREDICTED= [1] ['versicolor']\n",
      "TARGET= 1 versicolor PREDICTED= [1] ['versicolor']\n",
      "TARGET= 0 setosa PREDICTED= [0] ['setosa']\n",
      "TARGET= 0 setosa PREDICTED= [0] ['setosa']\n",
      "TARGET= 2 virginica PREDICTED= [2] ['virginica']\n",
      "TARGET= 1 versicolor PREDICTED= [1] ['versicolor']\n",
      "TARGET= 0 setosa PREDICTED= [0] ['setosa']\n",
      "TARGET= 0 setosa PREDICTED= [0] ['setosa']\n",
      "TARGET= 2 virginica PREDICTED= [2] ['virginica']\n",
      "TARGET= 0 setosa PREDICTED= [0] ['setosa']\n",
      "TARGET= 0 setosa PREDICTED= [0] ['setosa']\n",
      "TARGET= 1 versicolor PREDICTED= [1] ['versicolor']\n",
      "TARGET= 1 versicolor PREDICTED= [1] ['versicolor']\n",
      "TARGET= 0 setosa PREDICTED= [0] ['setosa']\n",
      "TARGET= 2 virginica PREDICTED= [2] ['virginica']\n",
      "TARGET= 1 versicolor PREDICTED= [1] ['versicolor']\n",
      "TARGET= 0 setosa PREDICTED= [0] ['setosa']\n",
      "TARGET= 2 virginica PREDICTED= [2] ['virginica']\n",
      "TARGET= 2 virginica PREDICTED= [2] ['virginica']\n",
      "TARGET= 1 versicolor PREDICTED= [1] ['versicolor']\n",
      "TARGET= 0 setosa PREDICTED= [0] ['setosa']\n",
      "TARGET= 1 versicolor PREDICTED= [2] ['virginica']\n",
      "0.9736842105263158\n"
     ]
    }
   ],
   "source": [
    "for i in range(len(X_test)):\n",
    "    x=X_test[i]\n",
    "    x_new=np.array([x])\n",
    "    prediction=kn.predict(x_new)\n",
    "    print(\"TARGET=\",y_test[i],dataset[\"target_names\"][y_test[i]],\"PREDICTED=\",prediction,dataset[\"target_names\"][prediction])\n",
    "print(kn.score(X_test,y_test))"
   ]
  }
 ],
 "metadata": {
  "kernelspec": {
   "display_name": "Python 3.10.0 64-bit",
   "language": "python",
   "name": "python3"
  },
  "language_info": {
   "codemirror_mode": {
    "name": "ipython",
    "version": 3
   },
   "file_extension": ".py",
   "mimetype": "text/x-python",
   "name": "python",
   "nbconvert_exporter": "python",
   "pygments_lexer": "ipython3",
   "version": "3.10.0"
  },
  "vscode": {
   "interpreter": {
    "hash": "9f2bb75aa0376bd274c1245f3dd0e0ad115ef2d8bb7981a5f534a937b7d2b849"
   }
  }
 },
 "nbformat": 4,
 "nbformat_minor": 2
}
